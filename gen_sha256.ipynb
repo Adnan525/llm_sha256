{
 "cells": [
  {
   "cell_type": "code",
   "execution_count": 8,
   "id": "a74b0e92",
   "metadata": {},
   "outputs": [],
   "source": [
    "import pandas as pd\n",
    "import hashlib"
   ]
  },
  {
   "cell_type": "code",
   "execution_count": 2,
   "id": "64c16e5f",
   "metadata": {},
   "outputs": [],
   "source": [
    "df = pd.read_csv(\"common_passwords.csv\")"
   ]
  },
  {
   "cell_type": "code",
   "execution_count": 3,
   "id": "88c77a89",
   "metadata": {},
   "outputs": [
    {
     "data": {
      "text/html": [
       "<div>\n",
       "<style scoped>\n",
       "    .dataframe tbody tr th:only-of-type {\n",
       "        vertical-align: middle;\n",
       "    }\n",
       "\n",
       "    .dataframe tbody tr th {\n",
       "        vertical-align: top;\n",
       "    }\n",
       "\n",
       "    .dataframe thead th {\n",
       "        text-align: right;\n",
       "    }\n",
       "</style>\n",
       "<table border=\"1\" class=\"dataframe\">\n",
       "  <thead>\n",
       "    <tr style=\"text-align: right;\">\n",
       "      <th></th>\n",
       "      <th>password</th>\n",
       "      <th>length</th>\n",
       "      <th>num_chars</th>\n",
       "      <th>num_digits</th>\n",
       "      <th>num_upper</th>\n",
       "      <th>num_lower</th>\n",
       "      <th>num_special</th>\n",
       "      <th>num_vowels</th>\n",
       "      <th>num_syllables</th>\n",
       "    </tr>\n",
       "  </thead>\n",
       "  <tbody>\n",
       "    <tr>\n",
       "      <th>0</th>\n",
       "      <td>123456</td>\n",
       "      <td>6</td>\n",
       "      <td>0</td>\n",
       "      <td>6</td>\n",
       "      <td>0</td>\n",
       "      <td>0</td>\n",
       "      <td>0</td>\n",
       "      <td>0</td>\n",
       "      <td>1</td>\n",
       "    </tr>\n",
       "    <tr>\n",
       "      <th>1</th>\n",
       "      <td>password</td>\n",
       "      <td>8</td>\n",
       "      <td>8</td>\n",
       "      <td>0</td>\n",
       "      <td>0</td>\n",
       "      <td>8</td>\n",
       "      <td>0</td>\n",
       "      <td>2</td>\n",
       "      <td>2</td>\n",
       "    </tr>\n",
       "    <tr>\n",
       "      <th>2</th>\n",
       "      <td>12345678</td>\n",
       "      <td>8</td>\n",
       "      <td>0</td>\n",
       "      <td>8</td>\n",
       "      <td>0</td>\n",
       "      <td>0</td>\n",
       "      <td>0</td>\n",
       "      <td>0</td>\n",
       "      <td>1</td>\n",
       "    </tr>\n",
       "    <tr>\n",
       "      <th>3</th>\n",
       "      <td>qwerty</td>\n",
       "      <td>6</td>\n",
       "      <td>6</td>\n",
       "      <td>0</td>\n",
       "      <td>0</td>\n",
       "      <td>6</td>\n",
       "      <td>0</td>\n",
       "      <td>1</td>\n",
       "      <td>3</td>\n",
       "    </tr>\n",
       "    <tr>\n",
       "      <th>4</th>\n",
       "      <td>123456789</td>\n",
       "      <td>9</td>\n",
       "      <td>0</td>\n",
       "      <td>9</td>\n",
       "      <td>0</td>\n",
       "      <td>0</td>\n",
       "      <td>0</td>\n",
       "      <td>0</td>\n",
       "      <td>1</td>\n",
       "    </tr>\n",
       "  </tbody>\n",
       "</table>\n",
       "</div>"
      ],
      "text/plain": [
       "    password  length  num_chars  num_digits  num_upper  num_lower  \\\n",
       "0     123456       6          0           6          0          0   \n",
       "1   password       8          8           0          0          8   \n",
       "2   12345678       8          0           8          0          0   \n",
       "3     qwerty       6          6           0          0          6   \n",
       "4  123456789       9          0           9          0          0   \n",
       "\n",
       "   num_special  num_vowels  num_syllables  \n",
       "0            0           0              1  \n",
       "1            0           2              2  \n",
       "2            0           0              1  \n",
       "3            0           1              3  \n",
       "4            0           0              1  "
      ]
     },
     "execution_count": 3,
     "metadata": {},
     "output_type": "execute_result"
    }
   ],
   "source": [
    "df.head()"
   ]
  },
  {
   "cell_type": "code",
   "execution_count": 4,
   "id": "96491fc3",
   "metadata": {},
   "outputs": [],
   "source": [
    "passwords = df.password"
   ]
  },
  {
   "cell_type": "code",
   "execution_count": 5,
   "id": "78865797",
   "metadata": {},
   "outputs": [
    {
     "data": {
      "text/plain": [
       "0          123456\n",
       "1        password\n",
       "2        12345678\n",
       "3          qwerty\n",
       "4       123456789\n",
       "          ...    \n",
       "9995         caca\n",
       "9996       c2h5oh\n",
       "9997     bubbles1\n",
       "9998        brook\n",
       "9999        brady\n",
       "Name: password, Length: 10000, dtype: object"
      ]
     },
     "execution_count": 5,
     "metadata": {},
     "output_type": "execute_result"
    }
   ],
   "source": [
    "passwords"
   ]
  },
  {
   "cell_type": "code",
   "execution_count": 9,
   "id": "d90b15d2",
   "metadata": {},
   "outputs": [],
   "source": [
    "def calculate_sha256(input_string):\n",
    "    input_bytes = input_string.encode(\"utf-8\")\n",
    "    sha256_hash = hashlib.sha256(input_bytes).hexdigest()\n",
    "\n",
    "    return sha256_hash"
   ]
  },
  {
   "cell_type": "code",
   "execution_count": 10,
   "id": "d958dcd2",
   "metadata": {},
   "outputs": [
    {
     "name": "stdout",
     "output_type": "stream",
     "text": [
      "SHA256 hash of '123456' is: 8d969eef6ecad3c29a3a629280e686cf0c3f5d5a86aff3ca12020c923adc6c92\n"
     ]
    }
   ],
   "source": [
    "for password in passwords:\n",
    "    sha256_hash = calculate_sha256(password)\n",
    "    print(\"SHA256 hash of '{}' is: {}\".format(password, sha256_hash))\n",
    "    break"
   ]
  },
  {
   "cell_type": "code",
   "execution_count": 17,
   "id": "9d0bf87e",
   "metadata": {},
   "outputs": [],
   "source": [
    "target = pd.DataFrame(columns=[\"sha_256\", \"password\"])"
   ]
  },
  {
   "cell_type": "code",
   "execution_count": 18,
   "id": "7ee95288",
   "metadata": {},
   "outputs": [
    {
     "name": "stdout",
     "output_type": "stream",
     "text": [
      "SHA256 hash of 'freepass' is: 8bd10698229d26627eb039ac20f4537b62c6687ccb2892590bc7a3691659e892\n",
      "SHA256 hash of 'musicman' is: 40bbb39e6e686df2fa449a73428d9e704c22d6e8e5bf568cc6d5f2f392f38126\n",
      "SHA256 hash of 'jrcfyf' is: 4ff49e9447e95b7e6eace9dbf41f9c611e209c765b0624bd9278b7daccd9b0c2\n",
      "SHA256 hash of '19881988' is: cad3b7d993ec40c2c4b2db2275fea5fbc7d67e4d152162bea70ac67a75e37aeb\n",
      "SHA256 hash of '1234567890a' is: cff986c250c306ca817ea78003f2083b05600cc19df01d3fa2af158bfb848aec\n",
      "SHA256 hash of 'simmons' is: cd8028c53afbf33357a57a5bc96d55e1f244315381b8ce650f98604d5260c4f3\n",
      "SHA256 hash of '25041988' is: 13eaedc523462fa0ae8119cacc7616099ab4d0bf4528558af80d6e0717c5bcb4\n",
      "SHA256 hash of 'ranch' is: a1d648cffa6e2ba0f94c51f51e0cb8f2be4fa6c3d227176016291f9ce64e90e7\n",
      "SHA256 hash of '07071988' is: 226098c9e42b26d07cff879b0ec7ce8e954901d16d07bb5025adcc48243301ea\n",
      "SHA256 hash of 'brady' is: 3b9b05c720497601bfacaf66e58e8e37e3545ea9ab671665ad2e72e483c4872f\n"
     ]
    }
   ],
   "source": [
    "for i, password in enumerate(passwords):\n",
    "    sha256_hash = calculate_sha256(password)\n",
    "    target.loc[len(target)] = [sha256_hash, password]\n",
    "    if(i+1)%1000 == 0:\n",
    "      print(\"SHA256 hash of '{}' is: {}\".format(password, sha256_hash))  "
   ]
  },
  {
   "cell_type": "code",
   "execution_count": 19,
   "id": "d32d6138",
   "metadata": {},
   "outputs": [
    {
     "data": {
      "text/plain": [
       "(10000, 2)"
      ]
     },
     "execution_count": 19,
     "metadata": {},
     "output_type": "execute_result"
    }
   ],
   "source": [
    "target.shape"
   ]
  },
  {
   "cell_type": "code",
   "execution_count": 20,
   "id": "d1651e66",
   "metadata": {},
   "outputs": [],
   "source": [
    "target.to_csv(\"sha256_password.csv\")"
   ]
  }
 ],
 "metadata": {
  "kernelspec": {
   "display_name": "Python 3 (ipykernel)",
   "language": "python",
   "name": "python3"
  },
  "language_info": {
   "codemirror_mode": {
    "name": "ipython",
    "version": 3
   },
   "file_extension": ".py",
   "mimetype": "text/x-python",
   "name": "python",
   "nbconvert_exporter": "python",
   "pygments_lexer": "ipython3",
   "version": "3.8.17"
  }
 },
 "nbformat": 4,
 "nbformat_minor": 5
}
